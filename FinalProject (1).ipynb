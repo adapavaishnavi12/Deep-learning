{
  "nbformat": 4,
  "nbformat_minor": 0,
  "metadata": {
    "colab": {
      "provenance": []
    },
    "kernelspec": {
      "name": "python3",
      "display_name": "Python 3"
    },
    "language_info": {
      "name": "python"
    }
  },
  "cells": [
    {
      "cell_type": "markdown",
      "source": [
        "# **FINAL PROJECT**"
      ],
      "metadata": {
        "id": "f5Pp1qMdVtH7"
      }
    },
    {
      "cell_type": "code",
      "source": [
        "import numpy as np\n",
        "import tensorflow as tf\n",
        "from tensorflow.keras.datasets import fashion_mnist\n",
        "from tensorflow.keras.models import Sequential\n",
        "from tensorflow.keras.layers import Dense, Conv2D, MaxPooling2D, Flatten, AveragePooling2D\n",
        "from tensorflow.keras.utils import to_categorical\n",
        "from sklearn.metrics import classification_report, accuracy_score, precision_score, recall_score, f1_score\n",
        "\n",
        "# Load the Fashion MNIST dataset\n",
        "(x_train, y_train), (x_test, y_test) = fashion_mnist.load_data()\n",
        "\n",
        "# Normalize the data\n",
        "x_train = x_train / 255.0\n",
        "x_test = x_test / 255.0\n",
        "\n",
        "# Reshape the data for CNN input\n",
        "x_train = x_train.reshape(-1, 28, 28, 1)\n",
        "x_test = x_test.reshape(-1, 28, 28, 1)\n",
        "\n",
        "# Convert labels to one-hot encoding\n",
        "y_train_cat = to_categorical(y_train, 10)\n",
        "y_test_cat = to_categorical(y_test, 10)\n",
        "\n",
        "# Define three diverse models\n",
        "def create_cnn_model():\n",
        "    model = Sequential([\n",
        "        Conv2D(32, kernel_size=(3, 3), activation='relu', input_shape=(28, 28, 1)),\n",
        "        MaxPooling2D(pool_size=(2, 2)),\n",
        "        Conv2D(64, (3, 3), activation='relu'),\n",
        "        MaxPooling2D(pool_size=(2, 2)),\n",
        "        Flatten(),\n",
        "        Dense(128, activation='relu'),\n",
        "        Dense(10, activation='softmax')\n",
        "    ])\n",
        "    model.compile(optimizer='adam', loss='categorical_crossentropy', metrics=['accuracy'])\n",
        "    return model\n",
        "\n",
        "def create_dnn_model():\n",
        "    model = Sequential([\n",
        "        Flatten(input_shape=(28, 28, 1)),\n",
        "        Dense(256, activation='relu'),\n",
        "        Dense(128, activation='relu'),\n",
        "        Dense(64, activation='relu'),\n",
        "        Dense(10, activation='softmax')\n",
        "    ])\n",
        "    model.compile(optimizer='adam', loss='categorical_crossentropy', metrics=['accuracy'])\n",
        "    return model\n",
        "\n",
        "def create_lenet_model():\n",
        "    model = Sequential([\n",
        "        Conv2D(20, kernel_size=(5, 5), activation='relu', input_shape=(28, 28, 1)),\n",
        "        AveragePooling2D(pool_size=(2, 2)),\n",
        "        Conv2D(50, (5, 5), activation='relu'),\n",
        "        AveragePooling2D(pool_size=(2, 2)),\n",
        "        Flatten(),\n",
        "        Dense(500, activation='relu'),\n",
        "        Dense(10, activation='softmax')\n",
        "    ])\n",
        "    model.compile(optimizer='adam', loss='categorical_crossentropy', metrics=['accuracy'])\n",
        "    return model\n",
        "\n",
        "# Initialize and train the models\n",
        "models = [create_cnn_model(), create_dnn_model(), create_lenet_model()]\n",
        "model_performance = []\n",
        "\n",
        "for model in models:\n",
        "    model.fit(x_train, y_train_cat, epochs=10, verbose=0, validation_split=0.1)\n",
        "    y_pred_prob = model.predict(x_test)\n",
        "    y_pred = np.argmax(y_pred_prob, axis=1)\n",
        "    accuracy = accuracy_score(y_test, y_pred)\n",
        "    precision = precision_score(y_test, y_pred, average='macro')\n",
        "    recall = recall_score(y_test, y_pred, average='macro')\n",
        "    f1 = f1_score(y_test, y_pred, average='macro')\n",
        "    model_performance.append({\n",
        "        'accuracy': accuracy,\n",
        "        'precision': precision,\n",
        "        'recall': recall,\n",
        "        'f1_score': f1\n",
        "    })\n",
        "\n",
        "# Ensemble predictions by averaging\n",
        "predictions = [model.predict(x_test) for model in models]\n",
        "avg_predictions = np.mean(predictions, axis=0)\n",
        "avg_labels = np.argmax(avg_predictions, axis=1)\n",
        "\n",
        "ensemble_accuracy = accuracy_score(y_test, avg_labels)\n",
        "ensemble_precision = precision_score(y_test, avg_labels, average='macro')\n",
        "ensemble_recall = recall_score(y_test, avg_labels, average='macro')\n",
        "ensemble_f1 = f1_score(y_test, avg_labels, average='macro')\n",
        "\n",
        "# Print individual model performances\n",
        "for i, performance in enumerate(model_performance, 1):\n",
        "    print(f\"Model {i} - Accuracy: {performance['accuracy']:.4f}, Precision: {performance['precision']:.4f}, \"\n",
        "          f\"Recall: {performance['recall']:.4f}, F1-score: {performance['f1_score']:.4f}\")\n",
        "\n",
        "# Print ensemble performance\n",
        "print(f\"Ensemble - Accuracy: {ensemble_accuracy:.4f}, Precision: {ensemble_precision:.4f}, \"\n",
        "      f\"Recall: {ensemble_recall:.4f}, F1-score: {ensemble_f1:.4f}\")\n"
      ],
      "metadata": {
        "colab": {
          "base_uri": "https://localhost:8080/"
        },
        "id": "gfOgF7vdOhDe",
        "outputId": "074472b6-e696-44d0-9645-aba8dc230e3b"
      },
      "execution_count": 3,
      "outputs": [
        {
          "output_type": "stream",
          "name": "stdout",
          "text": [
            "313/313 [==============================] - 4s 11ms/step\n",
            "313/313 [==============================] - 1s 4ms/step\n",
            "313/313 [==============================] - 4s 14ms/step\n",
            "313/313 [==============================] - 3s 9ms/step\n",
            "313/313 [==============================] - 1s 3ms/step\n",
            "313/313 [==============================] - 4s 11ms/step\n",
            "Model 1 - Accuracy: 0.9127, Precision: 0.9126, Recall: 0.9127, F1-score: 0.9126\n",
            "Model 2 - Accuracy: 0.8826, Precision: 0.8824, Recall: 0.8826, F1-score: 0.8815\n",
            "Model 3 - Accuracy: 0.9067, Precision: 0.9056, Recall: 0.9067, F1-score: 0.9058\n",
            "Ensemble - Accuracy: 0.9216, Precision: 0.9209, Recall: 0.9216, F1-score: 0.9209\n"
          ]
        }
      ]
    }
  ]
}